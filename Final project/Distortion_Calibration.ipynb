{
 "cells": [
  {
   "cell_type": "code",
   "execution_count": 1,
   "id": "01a4ac0f",
   "metadata": {},
   "outputs": [],
   "source": [
    "import numpy as np\n",
    "import cv2\n",
    "import glob\n",
    "import matplotlib.pyplot as plt\n",
    "import os\n",
    "import scipy"
   ]
  },
  {
   "cell_type": "code",
   "execution_count": 2,
   "id": "f8a44559",
   "metadata": {},
   "outputs": [],
   "source": [
    "class Calibration ():\n",
    "    \"\"\"\n",
    "    Class that calibrates a camera by images of chessboards.\n",
    "    \"\"\"\n",
    "    def __init__(self, imgsDirectoryGlob, nbVertical, nbHorizontal):\n",
    "        \"\"\"\n",
    "        Method to instantiate the class.\n",
    "            * Input:\n",
    "            - imgsDirectory: this is the directory and regex expression to filter the files. \n",
    "                    Example: directory/right*.png\n",
    "            - nbVertical: number of squares in the chessboard to look for in the vertical direction.\n",
    "            - nbHorizontal: number of squares in the chessboard to look for in the horizontal direction.\n",
    "        \"\"\"\n",
    "        self.imgsDirectoryGlob = imgsDirectoryGlob\n",
    "        self.nbVertical = nbVertical\n",
    "        self.nbHorizontal = nbHorizontal\n",
    "        self.mtx = 0\n",
    "        self.dist = 0\n",
    "        self.calibrationDone = False\n",
    "        self.calibrate()\n",
    "    \n",
    "    def calibrate (self):\n",
    "        \"\"\"\n",
    "        Method that calculates the parameters of the calibration.\n",
    "        \"\"\"\n",
    "        #############################################################\n",
    "        # Definition of parameters\n",
    "        #############################################################\n",
    "        # Get parameters from attributes\n",
    "        imgsDirectory = self.imgsDirectoryGlob\n",
    "        nbVertical = self.nbVertical\n",
    "        nbHorizontal = self.nbHorizontal\n",
    "        \n",
    "        # termination criteria\n",
    "        criteria = (cv2.TERM_CRITERIA_EPS + cv2.TERM_CRITERIA_MAX_ITER, 30, 0.001)\n",
    "\n",
    "        # prepare object points, like (0,0,0), (1,0,0), (2,0,0) ....,(6,5,0)\n",
    "        objp = np.zeros((nbHorizontal*nbVertical,3), np.float32)\n",
    "        objp[:,:2] = np.mgrid[0:nbVertical,0:nbHorizontal].T.reshape(-1,2)\n",
    "\n",
    "        # Arrays to store object points and image points from all the images.\n",
    "        objPoints = [] # 3d point in real world space\n",
    "        imgPoints = [] # 2d points in image plane.\n",
    "\n",
    "        # Read the images in this directory\n",
    "        images = glob.glob(imgsDirectory)\n",
    "        assert images\n",
    "\n",
    "        #############################################################\n",
    "        # Get corners of chessboard\n",
    "        #############################################################\n",
    "        # Finish process if no images are found\n",
    "        if len(images) == 0:        \n",
    "            print(\"ERROR: No images found in this input: {}.\".format(imgsDirectory))\n",
    "            return -1, 0, 0\n",
    "\n",
    "        # Continue otherwise\n",
    "        # Read each image with this description and fit the chessboard squares\n",
    "        numberCornersFound = 0\n",
    "        for fname in images:\n",
    "            # Make image to gray scale\n",
    "            img = cv2.imread(fname)\n",
    "            gray = cv2.cvtColor(img, cv2.COLOR_BGR2GRAY)\n",
    "\n",
    "            # findChessboardCorners\n",
    "            ret, corners = cv2.findChessboardCorners(gray, (nbVertical, nbHorizontal), None)\n",
    "\n",
    "            # If found, add object points, image points (after refining them)\n",
    "            if ret == True:\n",
    "                numberCornersFound += 1\n",
    "                objPoints.append(objp)\n",
    "\n",
    "                corners2 = cv2.cornerSubPix(gray, corners, (11,11), (-1,-1), criteria)\n",
    "                imgPoints.append(corners2)\n",
    "\n",
    "                # Draw and display the corners\n",
    "                img = cv2.drawChessboardCorners(img, (nbVertical, nbHorizontal), corners2, ret)\n",
    "                cv2.imshow('img',img)\n",
    "                cv2.waitKey(500)\n",
    "\n",
    "        cv2.destroyAllWindows()\n",
    "\n",
    "\n",
    "        #############################################################\n",
    "        # Compute calibration parameters\n",
    "        #############################################################\n",
    "        # Finish process if no corners are found\n",
    "        if numberCornersFound == 0:\n",
    "            print(\"ERROR: No corners fit in any chessboard image.\")\n",
    "            return -1, 0, 0\n",
    "\n",
    "        # Otherwise continue\n",
    "        # Compute the calibration parameters and show an example image if wanted\n",
    "        print(\"Found {} number of corners.\".format(numberCornersFound))\n",
    "\n",
    "        # Calibrate\n",
    "        ret, mtx, dist, rvecs, tvecs = cv2.calibrateCamera(objPoints, imgPoints, gray.shape[::-1], None, None)\n",
    "        \n",
    "        # Update the class attributes\n",
    "        self.mtx = mtx\n",
    "        self.dist = dist\n",
    "        self.calibrationDone = True\n",
    "\n",
    "        return 0\n",
    "\n",
    "    def undistortImage(self, imgPath):\n",
    "        \"\"\"\n",
    "        Method that undistorts the image inputed by the parameters obtained by calibration.\n",
    "        * Input parameters:\n",
    "            - imgPath: path to the image to treat.\n",
    "        \"\"\"\n",
    "        # Check if calibration is done\n",
    "        if (self.calibrationDone == True):\n",
    "            # Get parameters from class\n",
    "            mtx = self.mtx\n",
    "            dist = self.dist\n",
    "\n",
    "            # Calibrate image as example\n",
    "            sourceImg = cv2.imread(imgPath)\n",
    "            sourceImgH,  sourceImgW = sourceImg.shape[:2]\n",
    "            newcameramtx, roi = cv2.getOptimalNewCameraMatrix(mtx, dist, (sourceImgW, sourceImgH), 1, (sourceImgW, sourceImgH))\n",
    "\n",
    "            # Undistort\n",
    "            dst = cv2.undistort(sourceImg, mtx, dist, None, newcameramtx)\n",
    "\n",
    "            # crop the image\n",
    "            x, y, w, h = roi\n",
    "            dst = dst[y:y+h, x:x+w]\n",
    "            \n",
    "            # Resize? Is it better or worse? Remove lines and re-run everything if it does not work better.\n",
    "            targetImgH, targetImgW = dst.shape[:2]\n",
    "            targetImg = cv2.resize(dst, (sourceImgW, sourceImgH))\n",
    "            \n",
    "            # Plot images\n",
    "            fig, ax = plt.subplots(nrows=1, ncols=2, figsize=(18,18))\n",
    "            ax[0].imshow(sourceImg[...,[2,1,0]])\n",
    "            ax[0].set_title('Original image')\n",
    "            ax[1].imshow(targetImg[...,[2,1,0]])\n",
    "            ax[1].set_title('Undistorted image')\n",
    "            \n",
    "            return 0\n",
    "        else:\n",
    "            print(\"ERROR: calibration needs to be done before.\")\n",
    "            return -1\n",
    "\n",
    "    def undistortDirectoryIn(self, sourceDirectoryGlob, targetDirectory):\n",
    "        \"\"\"\n",
    "        Method that undistorts the images that meet the glob string and .\n",
    "        * Input parameters:\n",
    "            - sourceDirectoryGlob: path to the images to treat, needs to define which pictures to call.\n",
    "                    Example: directory/right*.png\n",
    "            - targetDirectory: target directory where the files will be saved.\n",
    "        \"\"\"\n",
    "        # Read the images in this directory\n",
    "        images = glob.glob(sourceDirectoryGlob)\n",
    "        assert images\n",
    "        \n",
    "        if not os.path.isdir(targetDirectory):\n",
    "            os.mkdir(targetDirectory)\n",
    "\n",
    "        for fname in images:\n",
    "            # Get the name of the file\n",
    "            filename = os.path.basename(fname)\n",
    "            filenameTargetPath = os.path.join(targetDirectory, filename)\n",
    "            \n",
    "            # Get parameters from class\n",
    "            mtx = self.mtx\n",
    "            dist = self.dist\n",
    "\n",
    "            # Calibrate image as example\n",
    "            sourceImg = cv2.imread(fname)\n",
    "            sourceImgH,  sourceImgW = sourceImg.shape[:2]\n",
    "            newcameramtx, roi = cv2.getOptimalNewCameraMatrix(mtx, dist, (sourceImgW, sourceImgH), 1, (sourceImgW, sourceImgH))\n",
    "\n",
    "            # Undistort\n",
    "            dst = cv2.undistort(sourceImg, mtx, dist, None, newcameramtx)\n",
    "\n",
    "            # crop the image\n",
    "            x, y, w, h = roi\n",
    "            dst = dst[y:y+h, x:x+w]\n",
    "\n",
    "            # Resize? Is it better or worse? Remove lines and re-run everything if it does not work better.\n",
    "            targetImgH, targetImgW = dst.shape[:2]\n",
    "            targetImg = cv2.resize(dst, (sourceImgW, sourceImgH))\n",
    "\n",
    "            # Save image\n",
    "            ## It saves it in the wrong color? WHY? I did not manage to fix it..\n",
    "            targetImgColor = cv2.cvtColor(targetImg[...,[2,1,0]], cv2.COLOR_RGB2BGR)\n",
    "            cv2.imwrite(filenameTargetPath, targetImgColor)\n",
    "\n",
    "        return 0"
   ]
  },
  {
   "cell_type": "code",
   "execution_count": 4,
   "id": "563e35c0",
   "metadata": {},
   "outputs": [
    {
     "name": "stdout",
     "output_type": "stream",
     "text": [
      "Left camera calibration:\n",
      "Found 6 number of corners.\n"
     ]
    }
   ],
   "source": [
    "print(\"Left camera calibration:\")\n",
    "leftCalibration = Calibration('calibrationStereo/left*.png', 6, 6)"
   ]
  },
  {
   "cell_type": "code",
   "execution_count": 5,
   "id": "9661fe61",
   "metadata": {},
   "outputs": [
    {
     "name": "stdout",
     "output_type": "stream",
     "text": [
      "Right camera calibration:\n",
      "Found 3 number of corners.\n"
     ]
    }
   ],
   "source": [
    "print(\"Right camera calibration:\")\n",
    "rightCalibration = Calibration('calibrationStereo/right*.png', 6, 8)"
   ]
  },
  {
   "cell_type": "code",
   "execution_count": 11,
   "id": "daafdd99",
   "metadata": {},
   "outputs": [
    {
     "data": {
      "text/plain": [
       "0"
      ]
     },
     "execution_count": 11,
     "metadata": {},
     "output_type": "execute_result"
    }
   ],
   "source": [
    "leftCalibration.undistortDirectoryIn('Stereo_conveyor_without_occlusions/*Left.png', 'Stereo_conveyor_without_occlusions_undistorted/left')"
   ]
  },
  {
   "cell_type": "code",
   "execution_count": 12,
   "id": "1fc03bbd",
   "metadata": {},
   "outputs": [
    {
     "data": {
      "text/plain": [
       "0"
      ]
     },
     "execution_count": 12,
     "metadata": {},
     "output_type": "execute_result"
    }
   ],
   "source": [
    "rightCalibration.undistortDirectoryIn('Stereo_conveyor_without_occlusions/*Right.png', 'Stereo_conveyor_without_occlusions_undistorted/right')"
   ]
  },
  {
   "cell_type": "code",
   "execution_count": 8,
   "id": "95cf603d",
   "metadata": {},
   "outputs": [
    {
     "data": {
      "text/plain": [
       "0"
      ]
     },
     "execution_count": 8,
     "metadata": {},
     "output_type": "execute_result"
    }
   ],
   "source": [
    "leftCalibration.undistortDirectoryIn('Stereo_conveyor_with_occlusions/*Left.png', 'Stereo_conveyor_with_occlusions_undistorted/left')"
   ]
  },
  {
   "cell_type": "code",
   "execution_count": 9,
   "id": "f9e8a3c8",
   "metadata": {},
   "outputs": [
    {
     "data": {
      "text/plain": [
       "0"
      ]
     },
     "execution_count": 9,
     "metadata": {},
     "output_type": "execute_result"
    }
   ],
   "source": [
    "rightCalibration.undistortDirectoryIn('Stereo_conveyor_with_occlusions/*Right.png', 'Stereo_conveyor_with_occlusions_undistorted/right')"
   ]
  }
 ],
 "metadata": {
  "kernelspec": {
   "display_name": "Python 3 (ipykernel)",
   "language": "python",
   "name": "python3"
  },
  "language_info": {
   "codemirror_mode": {
    "name": "ipython",
    "version": 3
   },
   "file_extension": ".py",
   "mimetype": "text/x-python",
   "name": "python",
   "nbconvert_exporter": "python",
   "pygments_lexer": "ipython3",
   "version": "3.9.7"
  }
 },
 "nbformat": 4,
 "nbformat_minor": 5
}
