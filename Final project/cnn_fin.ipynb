{
 "cells": [
  {
   "cell_type": "code",
   "execution_count": 1,
   "id": "559248a5",
   "metadata": {},
   "outputs": [],
   "source": [
    "import tensorflow as tf\n",
    "from tensorflow.keras import datasets, layers, models\n",
    "import matplotlib.pyplot as plt\n",
    "import numpy as np\n",
    "from time import sleep\n",
    "import os\n",
    "import random\n",
    "from sklearn.metrics import confusion_matrix, classification_report\n",
    "import cv2"
   ]
  },
  {
   "cell_type": "code",
   "execution_count": 2,
   "id": "9d2862a7",
   "metadata": {},
   "outputs": [],
   "source": [
    "DATADIR = r\".\\DL_DATA\"\n",
    "CATEGORIES = [\"Book\", \"Cardboard_box\", \"Cup\"]"
   ]
  },
  {
   "cell_type": "code",
   "execution_count": 3,
   "id": "d44d8a74",
   "metadata": {},
   "outputs": [],
   "source": [
    "def make_train_data():\n",
    "    for category in CATEGORIES:\n",
    "        path = os.path.join(DATADIR, category)\n",
    "        class_num = CATEGORIES.index(category)\n",
    "        for img in os.listdir(path):\n",
    "            try:\n",
    "                img_array = cv2.imread(os.path.join(path, img), cv2.IMREAD_GRAYSCALE)\n",
    "                train_data.append([img_array, class_num])\n",
    "            except Exception as e: \n",
    "                pass"
   ]
  },
  {
   "cell_type": "code",
   "execution_count": 4,
   "id": "0a9e9748",
   "metadata": {},
   "outputs": [
    {
     "name": "stdout",
     "output_type": "stream",
     "text": [
      "1012\n"
     ]
    }
   ],
   "source": [
    "train_data = []\n",
    "make_train_data()\n",
    "random.shuffle(train_data)\n",
    "print(len(train_data))"
   ]
  },
  {
   "cell_type": "code",
   "execution_count": 5,
   "id": "f94baec1",
   "metadata": {},
   "outputs": [],
   "source": [
    "X = []\n",
    "y = []\n",
    "\n",
    "for features, label in train_data:\n",
    "    X.append(features)\n",
    "    y.append(label)\n",
    "\n",
    "X = np.array(X).reshape(-1, 100, 100, 1)\n",
    "X = X/255.0\n",
    "y = np.array(y)"
   ]
  },
  {
   "cell_type": "code",
   "execution_count": 6,
   "id": "097894ba",
   "metadata": {},
   "outputs": [],
   "source": [
    "class tooGood(tf.keras.callbacks.Callback):\n",
    "    def on_epoch_end(self, epoch, logs={}):\n",
    "        if(logs.get(\"accuracy\") > 0.9):\n",
    "            print(\"\\n Desired accuracy reached; training ended.\")\n",
    "            self.model.stop_training = True"
   ]
  },
  {
   "cell_type": "code",
   "execution_count": 7,
   "id": "66cee67a",
   "metadata": {},
   "outputs": [],
   "source": [
    "callbacks = tooGood()"
   ]
  },
  {
   "cell_type": "code",
   "execution_count": 8,
   "id": "0d52031f",
   "metadata": {},
   "outputs": [],
   "source": [
    "cnn_model = models.Sequential([\n",
    "    layers.Conv2D(filters = 64, kernel_size = (3,3), activation = \"relu\", input_shape = X.shape[1:]),\n",
    "    layers.MaxPooling2D((2,2)),\n",
    "    \n",
    "    layers.Conv2D(filters = 64, kernel_size = (3,3), activation = \"relu\"),\n",
    "    layers.MaxPooling2D((2,2)),\n",
    "    \n",
    "    layers.Flatten(),\n",
    "    layers.Dense(640, activation = \"relu\"),\n",
    "    layers.Dense(3, activation = \"softmax\")\n",
    "    \n",
    "    #Maybe add another Dense 1 and activation? Maybe activation sigmoid? \n",
    "    \n",
    "])"
   ]
  },
  {
   "cell_type": "code",
   "execution_count": 9,
   "id": "06e75b1e",
   "metadata": {},
   "outputs": [],
   "source": [
    "cnn_model.compile(optimizer = \"adam\", \n",
    "             loss = \"sparse_categorical_crossentropy\", \n",
    "            #Maybe do binary_crossentropy? if it's greyscale... \n",
    "             metrics = [\"accuracy\"])"
   ]
  },
  {
   "cell_type": "code",
   "execution_count": 10,
   "id": "6d89f13f",
   "metadata": {},
   "outputs": [
    {
     "name": "stdout",
     "output_type": "stream",
     "text": [
      "Epoch 1/10\n",
      "46/46 [==============================] - 9s 197ms/step - loss: 0.4337 - accuracy: 0.8637 - val_loss: 0.0374 - val_accuracy: 0.9902\n",
      "Epoch 2/10\n",
      "46/46 [==============================] - ETA: 0s - loss: 0.0247 - accuracy: 0.9945\n",
      " Desired accuracy reached; training ended.\n",
      "46/46 [==============================] - 9s 186ms/step - loss: 0.0247 - accuracy: 0.9945 - val_loss: 0.0398 - val_accuracy: 0.9902\n"
     ]
    },
    {
     "data": {
      "text/plain": [
       "<keras.callbacks.History at 0x20455ae19a0>"
      ]
     },
     "execution_count": 10,
     "metadata": {},
     "output_type": "execute_result"
    }
   ],
   "source": [
    "#Remember to change the val split\n",
    "cnn_model.fit(X, y, batch_size = 20, validation_split = 0.1, epochs = 10, callbacks = [callbacks])"
   ]
  },
  {
   "cell_type": "code",
   "execution_count": 11,
   "id": "b586ffbf",
   "metadata": {},
   "outputs": [
    {
     "name": "stdout",
     "output_type": "stream",
     "text": [
      "INFO:tensorflow:Assets written to: .\\model_data\\assets\n"
     ]
    }
   ],
   "source": [
    "cnn_model.save(r\".\\model_data\")"
   ]
  },
  {
   "cell_type": "code",
   "execution_count": null,
   "id": "b1a93409",
   "metadata": {},
   "outputs": [],
   "source": []
  }
 ],
 "metadata": {
  "kernelspec": {
   "display_name": "Python 3 (ipykernel)",
   "language": "python",
   "name": "python3"
  },
  "language_info": {
   "codemirror_mode": {
    "name": "ipython",
    "version": 3
   },
   "file_extension": ".py",
   "mimetype": "text/x-python",
   "name": "python",
   "nbconvert_exporter": "python",
   "pygments_lexer": "ipython3",
   "version": "3.9.5"
  }
 },
 "nbformat": 4,
 "nbformat_minor": 5
}
