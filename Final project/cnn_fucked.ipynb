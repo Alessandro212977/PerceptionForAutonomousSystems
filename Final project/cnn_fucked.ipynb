{
 "cells": [
  {
   "cell_type": "code",
   "execution_count": 1,
   "id": "f232bd4d",
   "metadata": {},
   "outputs": [],
   "source": [
    "import tensorflow as tf\n",
    "from tensorflow.keras import datasets, layers, models\n",
    "import matplotlib.pyplot as plt\n",
    "import numpy as np\n",
    "from time import sleep\n",
    "import os\n",
    "import random\n",
    "from sklearn.metrics import confusion_matrix, classification_report\n",
    "import cv2"
   ]
  },
  {
   "cell_type": "code",
   "execution_count": 2,
   "id": "cb1e2c02",
   "metadata": {},
   "outputs": [],
   "source": [
    "DATADIR = r\".\\DL_TRAIN_DATA\\Images\"\n",
    "CATEGORIES = [\"Books\", \"Boxes\", \"Cups\"]\n",
    "IMG_SIZE = 100"
   ]
  },
  {
   "cell_type": "code",
   "execution_count": 3,
   "id": "a73d37a2",
   "metadata": {},
   "outputs": [],
   "source": [
    "def make_train_data():\n",
    "    for category in CATEGORIES:\n",
    "        path = os.path.join(DATADIR, category)\n",
    "        class_num = CATEGORIES.index(category)\n",
    "        for img in os.listdir(path):\n",
    "            try:\n",
    "                img_array = cv2.imread(os.path.join(path, img), cv2.IMREAD_GRAYSCALE)\n",
    "                resized_img_array = cv2.resize(img_array, (IMG_SIZE, IMG_SIZE))\n",
    "                train_data.append([resized_img_array, class_num])\n",
    "            except Exception as e: \n",
    "                pass"
   ]
  },
  {
   "cell_type": "code",
   "execution_count": 4,
   "id": "63fe4eb0",
   "metadata": {},
   "outputs": [
    {
     "name": "stdout",
     "output_type": "stream",
     "text": [
      "24\n"
     ]
    }
   ],
   "source": [
    "train_data = []\n",
    "make_train_data()\n",
    "print(len(train_data))"
   ]
  },
  {
   "cell_type": "code",
   "execution_count": 5,
   "id": "1301c6f3",
   "metadata": {},
   "outputs": [],
   "source": [
    "random.shuffle(train_data)"
   ]
  },
  {
   "cell_type": "code",
   "execution_count": 6,
   "id": "1e10ed76",
   "metadata": {},
   "outputs": [],
   "source": [
    "X = []\n",
    "y = []\n",
    "\n",
    "for features, label in train_data:\n",
    "    X.append(features)\n",
    "    y.append(label)\n",
    "\n",
    "X = np.array(X).reshape(-1, IMG_SIZE, IMG_SIZE, 1)\n",
    "X = X/255.0\n",
    "y = np.array(y)"
   ]
  },
  {
   "cell_type": "code",
   "execution_count": 7,
   "id": "d69099bf",
   "metadata": {},
   "outputs": [],
   "source": [
    "class tooGood(tf.keras.callbacks.Callback):\n",
    "    def on_epoch_end(self, epoch, logs={}):\n",
    "        if(logs.get(\"accuracy\") > 0.9):\n",
    "            print(\"\\n Desired accuracy reached; training ended.\")\n",
    "            self.model.stop_training = True"
   ]
  },
  {
   "cell_type": "code",
   "execution_count": 8,
   "id": "66d89d07",
   "metadata": {},
   "outputs": [],
   "source": [
    "callbacks = tooGood()"
   ]
  },
  {
   "cell_type": "code",
   "execution_count": 9,
   "id": "c6e8fa17",
   "metadata": {},
   "outputs": [],
   "source": [
    "cnn_model = models.Sequential([\n",
    "    \n",
    "    layers.Conv2D(filters = 64, kernel_size = (3,3), activation = \"relu\", input_shape = X.shape[1:]),\n",
    "    layers.MaxPooling2D((2,2)),\n",
    "    \n",
    "    #layers.Conv2D(filters = 64, kernel_size = (3,3), activation = \"relu\"),\n",
    "    #layers.MaxPooling2D((2,2)),\n",
    "    \n",
    "    layers.Flatten(),\n",
    "    layers.Dense(64, activation = \"relu\"),\n",
    "    layers.Dense(3, activation = \"softmax\")\n",
    "    \n",
    "    #Maybe add another Dense 1 and activation? Maybe activation sigmoid? \n",
    "    \n",
    "])"
   ]
  },
  {
   "cell_type": "code",
   "execution_count": 10,
   "id": "28ccfec6",
   "metadata": {},
   "outputs": [],
   "source": [
    "cnn_model.compile(optimizer = \"adam\", \n",
    "             loss = \"sparse_categorical_crossentropy\", \n",
    "            #Maybe do binary_crossentropy? if it's greyscale... \n",
    "             metrics = [\"accuracy\"])"
   ]
  },
  {
   "cell_type": "code",
   "execution_count": 34,
   "id": "51b50d56",
   "metadata": {},
   "outputs": [
    {
     "name": "stdout",
     "output_type": "stream",
     "text": [
      "Epoch 1/10\n",
      "24/24 [==============================] - 2s 64ms/step - loss: 8.2709e-05 - accuracy: 1.0000\n",
      "Epoch 2/10\n",
      "24/24 [==============================] - 1s 54ms/step - loss: 8.0637e-05 - accuracy: 1.0000\n",
      "Epoch 3/10\n",
      "24/24 [==============================] - 1s 53ms/step - loss: 7.6517e-05 - accuracy: 1.0000\n",
      "Epoch 4/10\n",
      "24/24 [==============================] - 1s 54ms/step - loss: 7.5316e-05 - accuracy: 1.0000\n",
      "Epoch 5/10\n",
      "24/24 [==============================] - 1s 53ms/step - loss: 7.3127e-05 - accuracy: 1.0000\n",
      "Epoch 6/10\n",
      "24/24 [==============================] - 1s 53ms/step - loss: 7.3528e-05 - accuracy: 1.0000\n",
      "Epoch 7/10\n",
      "24/24 [==============================] - 1s 53ms/step - loss: 7.4566e-05 - accuracy: 1.0000\n",
      "Epoch 8/10\n",
      "24/24 [==============================] - 1s 53ms/step - loss: 6.8762e-05 - accuracy: 1.0000\n",
      "Epoch 9/10\n",
      "24/24 [==============================] - 1s 54ms/step - loss: 6.5391e-05 - accuracy: 1.0000\n",
      "Epoch 10/10\n",
      "24/24 [==============================] - 1s 54ms/step - loss: 6.4283e-05 - accuracy: 1.0000\n"
     ]
    },
    {
     "data": {
      "text/plain": [
       "<keras.callbacks.History at 0x24601883580>"
      ]
     },
     "execution_count": 34,
     "metadata": {},
     "output_type": "execute_result"
    }
   ],
   "source": [
    "cnn_model.fit(X, y, batch_size = 1, epochs = 10) #, callbacks = [callbacks])"
   ]
  },
  {
   "cell_type": "code",
   "execution_count": 12,
   "id": "2f39ea80",
   "metadata": {},
   "outputs": [],
   "source": [
    "DATADIR_TEST = r\".\\DL_DATA\"\n",
    "CATEGORIES_TEST = [\"Books\", \"Boxes\", \"Cups\"]"
   ]
  },
  {
   "cell_type": "code",
   "execution_count": 13,
   "id": "5c758e4f",
   "metadata": {},
   "outputs": [],
   "source": [
    "def make_test_data():\n",
    "    for category_test in CATEGORIES_TEST:\n",
    "        path_test = os.path.join(DATADIR_TEST, category_test)\n",
    "        class_num_test = CATEGORIES_TEST.index(category_test)\n",
    "        for img_test in os.listdir(path_test):\n",
    "            try:\n",
    "                img_array_test = cv2.imread(os.path.join(path_test, img_test), cv2.IMREAD_GRAYSCALE)\n",
    "                resized_img_array_test = cv2.resize(img_array_test, (IMG_SIZE, IMG_SIZE))\n",
    "                test_data.append([resized_img_array_test, class_num_test])\n",
    "            except Exception as e: \n",
    "                pass"
   ]
  },
  {
   "cell_type": "code",
   "execution_count": 14,
   "id": "41727421",
   "metadata": {},
   "outputs": [
    {
     "name": "stdout",
     "output_type": "stream",
     "text": [
      "1012\n"
     ]
    }
   ],
   "source": [
    "test_data = []\n",
    "make_test_data()\n",
    "print(len(test_data))"
   ]
  },
  {
   "cell_type": "code",
   "execution_count": 15,
   "id": "9ca83e68",
   "metadata": {},
   "outputs": [],
   "source": [
    "random.shuffle(test_data)"
   ]
  },
  {
   "cell_type": "code",
   "execution_count": 26,
   "id": "fa4640ca",
   "metadata": {},
   "outputs": [
    {
     "name": "stdout",
     "output_type": "stream",
     "text": [
      "1012\n",
      "1012\n"
     ]
    }
   ],
   "source": [
    "X_test = []\n",
    "y_test = []\n",
    "\n",
    "for features, label in test_data:\n",
    "    X_test.append(features)\n",
    "    y_test.append(label)\n",
    "\n",
    "X_test = np.array(X_test).reshape(-1, IMG_SIZE, IMG_SIZE, 1)\n",
    "X_test = X_test/255.0\n",
    "y_test = np.array(y_test)\n",
    "\n",
    "print(len(X_test))\n",
    "print(len(y_test))"
   ]
  },
  {
   "cell_type": "code",
   "execution_count": 35,
   "id": "690203a7",
   "metadata": {},
   "outputs": [
    {
     "name": "stdout",
     "output_type": "stream",
     "text": [
      "32/32 [==============================] - 1s 45ms/step - loss: 1.8540 - accuracy: 0.4654\n"
     ]
    },
    {
     "data": {
      "text/plain": [
       "[1.854002833366394, 0.46541503071784973]"
      ]
     },
     "execution_count": 35,
     "metadata": {},
     "output_type": "execute_result"
    }
   ],
   "source": [
    "cnn_model.evaluate(X_test,y_test)"
   ]
  },
  {
   "cell_type": "code",
   "execution_count": 36,
   "id": "2031f03e",
   "metadata": {},
   "outputs": [
    {
     "name": "stdout",
     "output_type": "stream",
     "text": [
      "Classification Report: \n",
      "               precision    recall  f1-score   support\n",
      "\n",
      "           0       0.51      0.89      0.65       438\n",
      "           1       0.00      0.00      0.00       283\n",
      "           2       0.62      0.28      0.39       291\n",
      "\n",
      "    accuracy                           0.47      1012\n",
      "   macro avg       0.38      0.39      0.35      1012\n",
      "weighted avg       0.40      0.47      0.39      1012\n",
      "\n"
     ]
    }
   ],
   "source": [
    "y_pred = cnn_model.predict(X_test)\n",
    "y_pred_labels = [np.argmax(elem) for elem in y_pred]\n",
    "\n",
    "print(\"Classification Report: \\n\", classification_report(y_test, y_pred_labels))"
   ]
  },
  {
   "cell_type": "code",
   "execution_count": null,
   "id": "403769da",
   "metadata": {},
   "outputs": [],
   "source": []
  }
 ],
 "metadata": {
  "kernelspec": {
   "display_name": "Python 3 (ipykernel)",
   "language": "python",
   "name": "python3"
  },
  "language_info": {
   "codemirror_mode": {
    "name": "ipython",
    "version": 3
   },
   "file_extension": ".py",
   "mimetype": "text/x-python",
   "name": "python",
   "nbconvert_exporter": "python",
   "pygments_lexer": "ipython3",
   "version": "3.9.5"
  }
 },
 "nbformat": 4,
 "nbformat_minor": 5
}
