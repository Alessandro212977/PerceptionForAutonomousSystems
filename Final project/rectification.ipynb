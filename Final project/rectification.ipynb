{
 "cells": [
  {
   "cell_type": "code",
   "execution_count": 23,
   "id": "8f0803e7",
   "metadata": {},
   "outputs": [
    {
     "name": "stdout",
     "output_type": "stream",
     "text": [
      "(1280, 720)\n"
     ]
    }
   ],
   "source": [
    "    import cv2\n",
    "    import glob\n",
    "    import argparse\n",
    "    import math\n",
    "    from numpy import genfromtxt\n",
    "    import matplotlib.pyplot as plt\n",
    "    import numpy as np\n",
    "    import os.path\n",
    "    from scipy import ndimage\n",
    "    import os\n",
    "\n",
    "\n",
    "    left = cv2.imread(r'C:\\Users\\K_kar\\Downloads\\imagesWithoutOcclusions_undistort\\imagesWithoutOcclusions_undistort\\left\\1585434279_805531979_Left.png', cv2.IMREAD_UNCHANGED)\n",
    "    right = cv2.imread(r'C:\\Users\\K_kar\\Downloads\\imagesWithoutOcclusions_undistort\\imagesWithoutOcclusions_undistort\\right\\1585434279_805531979_Right.png', cv2.IMREAD_UNCHANGED)\n",
    "    #left = (left/256).astype('uint8')\n",
    "    #right = (right/256).astype('uint8')\n",
    "\n",
    "\n",
    "    cameraMatrix1 = np.array([[1485.8503101355045, 0, 641.0072474534551], [0, 1486.8249802291273, 454.1981417235667], [0, 0, 1]])\n",
    "    cameraMatrix2 = np.array([[1472.34425902698, 0, 656.7358738783742], [0, 1473.184475795988, 441.016803589085], [0, 0, 1]])\n",
    "    distCoeffs1 = np.array([-0.09236217303671054, 0.15801009565677457, 0.0020679941868083445, -0.0023435708660260184, 0.04491629603683055])\n",
    "    distCoeffs2 = np.array([-0.09949068652688753, 0.22953391558591676, 0.0016749995113326907, -0.0015940937703328348, -0.13603886268508916])\n",
    "    rotationMatrix = np.array([[0.9999169807005986, 0.0026862926847088424, -0.012602203704541104],[-0.002633967055223802, 0.9999878496600472, 0.0041668633079119935],[0.012613243997904163, -0.004133323588458492, 0.9999119069757908]])\n",
    "    transVector = np.array([29.96389633009774, 0.5883268401189343, -5.0370190999346365])\n",
    "    essentialMatrix = np.array([[-0.005846632380824811, 5.0345261532342365, 0.6092635826971343], [-5.4145428656773165, 0.11031957194242471, -29.897779179091888], [-0.6672019134164675, 29.96195184048419, 0.1322696748639909]])\n",
    "    fundMatrix = np.array([[4.567507458136527e-08, -3.930495370357416e-05, 0.010750771532659317], [4.227537878312907e-05, -8.607826196991683e-07, 0.3201405456504413], [-0.010999824926761303, -0.3182113833954986, 1]])\n",
    "\n",
    "\n",
    "    flags = cv2.CALIB_ZERO_DISPARITY\n",
    "    image_size = left.shape[::-1][1:3]\n",
    "    print(image_size)\n",
    "\n",
    "    R1, R2, P1, P2, Q, roi1, roi2 = cv2.stereoRectify(cameraMatrix1, distCoeffs1, cameraMatrix2, distCoeffs2, image_size, rotationMatrix, transVector, flags = flags)\n",
    "\n",
    "    leftmapX, leftmapY = cv2.initUndistortRectifyMap(cameraMatrix1, distCoeffs1, R1, P1, image_size, cv2.CV_32FC1)\n",
    "    rightmapX, rightmapY = cv2.initUndistortRectifyMap(cameraMatrix2, distCoeffs2, R2, P2, image_size, cv2.CV_32FC1)\n",
    "\n",
    "    left_remap = cv2.remap(left, leftmapX, leftmapY, cv2.INTER_LANCZOS4)\n",
    "    right_remap = cv2.remap(right, leftmapX, rightmapY, cv2.INTER_LANCZOS4)\n",
    "\n",
    "\n",
    "    # For some reason, the images get rotated upside down after remapping, and I have to invert them back\n",
    "    #left_remap = ndimage.rotate(left_remap,180)\n",
    "    #right_remap = ndimage.rotate(right_remap,180)\n",
    "    # Find epilines corresponding to points in right image (second image) and\n",
    "    # drawing its lines on left image\n",
    "    #lines1 = cv2.computeCorrespondEpilines(pts2.reshape(-1, 1, 2), 2 ,F)\n",
    "    #lines1 = lines1.reshape(-1, 3)\n",
    "    #left_remap = drawlines(left_remap, lines1, pts1, pts2)\n",
    "\n",
    "    # Find epilines corresponding to points in left image (first image) and\n",
    "    # drawing its lines on right image\n",
    "    #lines2 = cv2.computeCorrespondEpilines(pts1.reshape(-1, 1, 2), 1, F)\n",
    "    #lines2 = lines2.reshape(-1, 3)\n",
    "    #right_remap = drawlines(right_remap, lines2, pts2, pts1)\n",
    "\n",
    "    for line in range(0, int(right_remap.shape[0] / 20)):\n",
    "        left_remap[line * 20, :] = 0\n",
    "        right_remap[line * 20, :] = 0\n",
    "\n",
    "    "
   ]
  },
  {
   "cell_type": "code",
   "execution_count": 31,
   "id": "6262d0a2",
   "metadata": {},
   "outputs": [
    {
     "ename": "AssertionError",
     "evalue": "",
     "output_type": "error",
     "traceback": [
      "\u001b[1;31m---------------------------------------------------------------------------\u001b[0m",
      "\u001b[1;31mAssertionError\u001b[0m                            Traceback (most recent call last)",
      "\u001b[1;32m~\\AppData\\Local\\Temp/ipykernel_14016/2571894188.py\u001b[0m in \u001b[0;36m<module>\u001b[1;34m\u001b[0m\n\u001b[0;32m      5\u001b[0m \u001b[0mimgpoints_r\u001b[0m \u001b[1;33m=\u001b[0m \u001b[1;33m[\u001b[0m\u001b[1;33m]\u001b[0m \u001b[1;31m# 2d points in image plane.\u001b[0m\u001b[1;33m\u001b[0m\u001b[1;33m\u001b[0m\u001b[0m\n\u001b[0;32m      6\u001b[0m \u001b[0mleft\u001b[0m \u001b[1;33m=\u001b[0m \u001b[0mglob\u001b[0m\u001b[1;33m.\u001b[0m\u001b[0mglob\u001b[0m\u001b[1;33m(\u001b[0m\u001b[1;34mr'C:\\Users\\K_kar\\Downloads\\imagesWithoutOcclusions_undistort\\imagesWithoutOcclusions_undistort\\left\\1403709080387836928.png'\u001b[0m\u001b[1;33m)\u001b[0m\u001b[1;33m\u001b[0m\u001b[1;33m\u001b[0m\u001b[0m\n\u001b[1;32m----> 7\u001b[1;33m \u001b[1;32massert\u001b[0m \u001b[0mleft\u001b[0m\u001b[1;33m\u001b[0m\u001b[1;33m\u001b[0m\u001b[0m\n\u001b[0m\u001b[0;32m      8\u001b[0m \u001b[1;32mfor\u001b[0m \u001b[0mfname\u001b[0m \u001b[1;32min\u001b[0m \u001b[0mleft\u001b[0m\u001b[1;33m:\u001b[0m\u001b[1;33m\u001b[0m\u001b[1;33m\u001b[0m\u001b[0m\n\u001b[0;32m      9\u001b[0m     \u001b[0mimg\u001b[0m \u001b[1;33m=\u001b[0m \u001b[0mcv2\u001b[0m\u001b[1;33m.\u001b[0m\u001b[0mimread\u001b[0m\u001b[1;33m(\u001b[0m\u001b[0mfname\u001b[0m\u001b[1;33m)\u001b[0m\u001b[1;33m\u001b[0m\u001b[1;33m\u001b[0m\u001b[0m\n",
      "\u001b[1;31mAssertionError\u001b[0m: "
     ]
    }
   ],
   "source": [
    "# Arrays to store object points and image points from all the images.\n",
    "objpoints_l = [] # 3d point in real world space\n",
    "imgpoints_l = [] # 2d points in image plane.\n",
    "objpoints_r = [] # 3d point in real world space\n",
    "imgpoints_r = [] # 2d points in image plane.\n",
    "left = glob.glob(r'C:\\Users\\K_kar\\Downloads\\imagesWithoutOcclusions_undistort\\imagesWithoutOcclusions_undistort\\left\\1403709080387836928.png')\n",
    "assert left\n",
    "for fname in left:\n",
    "    img = cv2.imread(fname)\n",
    "    gray = cv2.cvtColor(img, cv2.COLOR_BGR2GRAY)\n",
    "\n",
    "ret_l, mtx_l, dist_l, rvecs_l, tvecs_l = cv2.calibrateCamera(objpoints_l, imgpoints_l, gray.shape[::-1], None, None)\n",
    "ret_r, mtx_r, dist_r, rvecs_r, tvecs_r = cv2.calibrateCamera(objpoints_r, imgpoints_r, gray.shape[::-1], None, None)\n",
    "\n",
    "img_r = cv2.imread(r'C:\\Users\\K_kar\\Downloads\\imagesWithoutOcclusions_undistort\\imagesWithoutOcclusions_undistort\\right\\1585434279_805531979_Right.png')\n",
    "dst_r = cv2.undistort(img_r, mtx_r, dist_r, None, newcameramtx_r)\n",
    "\n",
    "img_l = cv2.imread(r'C:\\Users\\K_kar\\Downloads\\imagesWithoutOcclusions_undistort\\imagesWithoutOcclusions_undistort\\left\\1585434279_805531979_Left.png')\n",
    "dst_l = cv2.undistort(img_l, mtx_l, dist_l, None, newcameramtx_l)\n",
    "\n",
    "left_remap = dst_l\n",
    "right_remap = dst_r\n",
    "\n",
    "\"\"\"\n",
    "Detect keypoints here\n",
    "kp1, des1 = ...\n",
    "kp2, des2 = ...\n",
    "\"\"\"\n",
    "sift = cv2.SIFT_create()\n",
    "# find the keypoints and descriptors with SIFT\n",
    "kp1, des1 = sift.detectAndCompute(left_remap, None)\n",
    "kp2, des2 = sift.detectAndCompute(right_remap, None)\n",
    "\n",
    "kp_img = cv2.drawKeypoints(right_remap, kp2, right_remap, flags=cv2.DRAW_MATCHES_FLAGS_DRAW_RICH_KEYPOINTS)\n",
    "plt.figure(figsize = (10,10))\n",
    "plt.imshow(kp_img)"
   ]
  },
  {
   "cell_type": "code",
   "execution_count": null,
   "id": "227bcabb",
   "metadata": {},
   "outputs": [],
   "source": [
    "cv2.namedWindow('output images', cv2.WINDOW_NORMAL)\n",
    "cv2.imshow('output images', np.hstack([left_remap, right_remap]))\n",
    "cv2.waitKey(0)\n",
    "cv2.destroyAllWindows()"
   ]
  }
 ],
 "metadata": {
  "kernelspec": {
   "display_name": "Python 3 (ipykernel)",
   "language": "python",
   "name": "python3"
  },
  "language_info": {
   "codemirror_mode": {
    "name": "ipython",
    "version": 3
   },
   "file_extension": ".py",
   "mimetype": "text/x-python",
   "name": "python",
   "nbconvert_exporter": "python",
   "pygments_lexer": "ipython3",
   "version": "3.9.7"
  }
 },
 "nbformat": 4,
 "nbformat_minor": 5
}
