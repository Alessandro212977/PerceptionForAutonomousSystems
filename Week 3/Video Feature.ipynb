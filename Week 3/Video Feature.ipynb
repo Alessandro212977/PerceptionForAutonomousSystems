{
 "cells": [
  {
   "cell_type": "code",
   "execution_count": 1,
   "id": "00a7f90c",
   "metadata": {},
   "outputs": [],
   "source": [
    "import cv2\n",
    "import numpy as np\n",
    "from matplotlib import pyplot as plt"
   ]
  },
  {
   "cell_type": "code",
   "execution_count": 2,
   "id": "e184d2a5",
   "metadata": {},
   "outputs": [],
   "source": [
    "cap = cv2.VideoCapture(r'C:\\Users\\K_kar\\OneDrive\\Pictures\\Perception for Autonomous Systems\\Robots.mp4')"
   ]
  },
  {
   "cell_type": "code",
   "execution_count": 3,
   "id": "d26c2b5e",
   "metadata": {},
   "outputs": [
    {
     "data": {
      "text/plain": [
       "\"ret, frame = cap.read()\\nnewret, newframe = cap.read()\\nwhile ret:\\n    gray1,gray2=frame.copy(),newframe.copy()\\n    gray1,gray2=cv2.cvtColor(gray1,cv2.COLOR_RGB2GRAY),cv2.cvtColor(gray2,cv2.COLOR_RGB2GRAY)\\n    feat1 = cv2.goodFeaturesToTrack(gray1, maxCorners=100, qualityLevel=0.3, minDistance=7)\\n    feat2, status, error = cv2.calcOpticalFlowPyrLK(gray1, gray2, feat1, None)\\n    for f1,f2 in zip(feat1,feat2):\\n        dif = np.sum(np.square(f2-f1))\\n        if dif > 5: #np.array([[5,5]]):\\n            a,b = int(f1[0][0]),int(f1[0][1])\\n            cv2.circle(frame,(a,b),10,(0,0,255),2)\\n    #plt.imshow(frame)\\n    print(a,b)\\n    #cv2.imshow('frame', frame)\\n    #cv2.waitKey(20)\\n    frame = newframe \\n    ret, newframe = cap.read()\\n    #break\\ncv2.destroyAllWindows()\""
      ]
     },
     "execution_count": 3,
     "metadata": {},
     "output_type": "execute_result"
    }
   ],
   "source": [
    "'''ret, frame = cap.read()\n",
    "newret, newframe = cap.read()\n",
    "while ret:\n",
    "    gray1,gray2=frame.copy(),newframe.copy()\n",
    "    gray1,gray2=cv2.cvtColor(gray1,cv2.COLOR_RGB2GRAY),cv2.cvtColor(gray2,cv2.COLOR_RGB2GRAY)\n",
    "    feat1 = cv2.goodFeaturesToTrack(gray1, maxCorners=100, qualityLevel=0.3, minDistance=7)\n",
    "    feat2, status, error = cv2.calcOpticalFlowPyrLK(gray1, gray2, feat1, None)\n",
    "    for f1,f2 in zip(feat1,feat2):\n",
    "        dif = np.sum(np.square(f2-f1))\n",
    "        if dif > 5: #np.array([[5,5]]):\n",
    "            a,b = int(f1[0][0]),int(f1[0][1])\n",
    "            cv2.circle(frame,(a,b),10,(0,0,255),2)\n",
    "    #plt.imshow(frame)\n",
    "    print(a,b)\n",
    "    #cv2.imshow('frame', frame)\n",
    "    #cv2.waitKey(20)\n",
    "    frame = newframe \n",
    "    ret, newframe = cap.read()\n",
    "    #break\n",
    "cv2.destroyAllWindows()'''"
   ]
  },
  {
   "cell_type": "code",
   "execution_count": 4,
   "id": "28a60e2a",
   "metadata": {},
   "outputs": [
    {
     "data": {
      "text/plain": [
       "\"ret, frame = cap.read()\\nnewret, newframe = cap.read()\\nwhile ret:\\n    gray1,gray2=frame.copy(),newframe.copy()\\n    gray1,gray2=cv2.cvtColor(gray1,cv2.COLOR_RGB2GRAY),cv2.cvtColor(gray2,cv2.COLOR_RGB2GRAY)\\n    flow = cv2.calcOpticalFlowFarneback(gray1,gray2,None,0.5,3,15,3,5,1.5,0)\\n    mag, ang = cv2.cartToPolar(flow[:,:,0], flow[:,:,1]) # Retrieving the magnitude and angle of every pixel\\n    mag_normal = cv2.normalize(mag, None, 0, 1, cv2.NORM_MINMAX);\\n    angle = ((1 / 360) * (180 / 255));\\n    #build hsv image\\n    h = ang;\\n    s = np.ones(np.shape(ang), np.float32);\\n    v = mag_normal;\\n    print(np.shape(h),np.shape(s),np.shape(v))\\n    hsv = cv2.merge((h,s,v));\\n    hsv = np.uint8(hsv)\\n    hsv = hsv*255.0\\n    bgr = cv2.cvtColor(hsv, cv2.COLOR_HSV2BGR);\\n    print(a,b)\\n    cv2.imshow('frame', bgr)\\n    cv2.waitKey(20)\\n    frame = newframe \\n    ret, newframe = cap.read()\\n    #break\\ncv2.destroyAllWindows()\""
      ]
     },
     "execution_count": 4,
     "metadata": {},
     "output_type": "execute_result"
    }
   ],
   "source": [
    "'''ret, frame = cap.read()\n",
    "newret, newframe = cap.read()\n",
    "while ret:\n",
    "    gray1,gray2=frame.copy(),newframe.copy()\n",
    "    gray1,gray2=cv2.cvtColor(gray1,cv2.COLOR_RGB2GRAY),cv2.cvtColor(gray2,cv2.COLOR_RGB2GRAY)\n",
    "    flow = cv2.calcOpticalFlowFarneback(gray1,gray2,None,0.5,3,15,3,5,1.5,0)\n",
    "    mag, ang = cv2.cartToPolar(flow[:,:,0], flow[:,:,1]) # Retrieving the magnitude and angle of every pixel\n",
    "    mag_normal = cv2.normalize(mag, None, 0, 1, cv2.NORM_MINMAX);\n",
    "    angle = ((1 / 360) * (180 / 255));\n",
    "    #build hsv image\n",
    "    h = ang;\n",
    "    s = np.ones(np.shape(ang), np.float32);\n",
    "    v = mag_normal;\n",
    "    print(np.shape(h),np.shape(s),np.shape(v))\n",
    "    hsv = cv2.merge((h,s,v));\n",
    "    hsv = np.uint8(hsv)\n",
    "    hsv = hsv*255.0\n",
    "    bgr = cv2.cvtColor(hsv, cv2.COLOR_HSV2BGR);\n",
    "    print(a,b)\n",
    "    cv2.imshow('frame', bgr)\n",
    "    cv2.waitKey(20)\n",
    "    frame = newframe \n",
    "    ret, newframe = cap.read()\n",
    "    #break\n",
    "cv2.destroyAllWindows()'''"
   ]
  },
  {
   "cell_type": "code",
   "execution_count": null,
   "id": "e324db1a",
   "metadata": {},
   "outputs": [],
   "source": [
    "# Dense Optical Flow, Group 18 Edition\n",
    "\n",
    "ret, frame = cap.read()\n",
    "new_ret, new_frame = cap.read()\n",
    "\n",
    "hsv_mask = np.zeros_like(frame)\n",
    "hsv_mask[..., 1] = 255\n",
    "gray = cv2.cvtColor(frame, cv2.COLOR_BGR2GRAY)\n",
    "\n",
    "while new_ret:\n",
    "\n",
    "    new_gray = cv2.cvtColor(new_frame, cv2.COLOR_BGR2GRAY)\n",
    "\n",
    "    # Optical flow is now calculated\n",
    "    flow = cv2.calcOpticalFlowFarneback(gray, new_gray, None, 0.5, 3, 15, 3, 5, 1.2, 0)\n",
    "\n",
    "    # Compute magnite and angle of 2D vector\n",
    "    mag, ang = cv2.cartToPolar(flow[..., 0], flow[..., 1])\n",
    "\n",
    "    # Set image hue value according to the angle of optical flow\n",
    "    hsv_mask[..., 0] = ang * 180 / np.pi / 2\n",
    "\n",
    "    # Set value as per the normalized magnitude of optical flow\n",
    "    hsv_mask[..., 2] = cv2.normalize(mag, None, 0, 255, cv2.NORM_MINMAX)\n",
    "\n",
    "    # Convert to rgb\n",
    "    rgb_representation = cv2.cvtColor(hsv_mask, cv2.COLOR_HSV2BGR)\n",
    "    rgb_representation = cv2.resize(rgb_representation, (720,480))\n",
    "    cv2.imshow('frame2', rgb_representation)\n",
    "\n",
    "    ## START Removing this causes the window to shit itself\n",
    "\n",
    "    kk = cv2.waitKey(20) & 0xff\n",
    "    # Press 'e' to exit the video\n",
    "    if kk == ord('e'):\n",
    "        break\n",
    "\n",
    "    ## END Removing this causes the window to shit itself\n",
    "\n",
    "    frame = new_frame\n",
    "    new_ret, new_frame = cap.read()\n",
    "\n",
    "capture.release()\n",
    "cv2.destroyAllWindows()"
   ]
  },
  {
   "cell_type": "code",
   "execution_count": null,
   "id": "c91cb01c",
   "metadata": {},
   "outputs": [],
   "source": []
  }
 ],
 "metadata": {
  "kernelspec": {
   "display_name": "Python 3 (ipykernel)",
   "language": "python",
   "name": "python3"
  },
  "language_info": {
   "codemirror_mode": {
    "name": "ipython",
    "version": 3
   },
   "file_extension": ".py",
   "mimetype": "text/x-python",
   "name": "python",
   "nbconvert_exporter": "python",
   "pygments_lexer": "ipython3",
   "version": "3.9.7"
  }
 },
 "nbformat": 4,
 "nbformat_minor": 5
}
