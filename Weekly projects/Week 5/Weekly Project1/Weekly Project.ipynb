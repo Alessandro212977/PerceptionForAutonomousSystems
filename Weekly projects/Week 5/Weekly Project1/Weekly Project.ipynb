{
 "cells": [
  {
   "cell_type": "markdown",
   "metadata": {},
   "source": [
    "# Weekly Project 5\n",
    "## Global Registration implementation.\n",
    "## Task 1\n",
    "Today your project is to implement a global registration algorithm.\n",
    "\n",
    "It should be able to roughly align two pointclouds.\n",
    "1. Implement global registration\n",
    "2. Can you fit **r1.pcd** and **r2.pcd**?\n",
    "3. Can you fit **car1.ply** and **car2.ply**?\n",
    "These are in the *global_registration* folder\n",
    "\n",
    "\n",
    "\n",
    "## Task 2 (Challange)\n",
    "Challanges attempt either or both:\n",
    "- Implement local registration.\n",
    "\n",
    "- Attempt to reconstruct the car from the images in *car_challange* folder.\n",
    "\n",
    "You can use the exercises from monday as a starting point."
   ]
  },
  {
   "cell_type": "code",
   "execution_count": 1,
   "metadata": {},
   "outputs": [
    {
     "name": "stdout",
     "output_type": "stream",
     "text": [
      "Jupyter environment detected. Enabling Open3D WebVisualizer.\n",
      "[Open3D INFO] WebRTC GUI backend enabled.\n",
      "[Open3D INFO] WebRTCWindowSystem: HTTP handshake server disabled.\n"
     ]
    }
   ],
   "source": [
    "###\n",
    "# Add code here\n",
    "import open3d as o3d\n",
    "import numpy as np\n",
    "import copy\n",
    "from scipy.spatial import KDTree\n",
    "import random\n",
    "\n",
    "# helper function for drawing if you want it to be more clear which is which set recolor=True\n",
    "def draw_registrations(source, target, transformation = None, recolor = False):\n",
    "    source_temp = copy.deepcopy(source)\n",
    "    target_temp = copy.deepcopy(target)\n",
    "    if(recolor):\n",
    "        source_temp.paint_uniform_color([1, 0.706, 0])\n",
    "        target_temp.paint_uniform_color([0, 0.651, 0.929])\n",
    "    if(transformation is not None):\n",
    "        source_temp.transform(transformation)\n",
    "    o3d.visualization.draw_geometries([source_temp, target_temp])"
   ]
  },
  {
   "cell_type": "code",
   "execution_count": 2,
   "metadata": {},
   "outputs": [],
   "source": [
    "source = o3d.io.read_point_cloud(\"global_registration/r1.pcd\")\n",
    "target = o3d.io.read_point_cloud(\"global_registration/r2.pcd\")\n",
    "\n",
    "# Used for downsampling.\n",
    "voxel_size = 0.05\n",
    "\n",
    "# Show models side by side\n",
    "draw_registrations(source, target)"
   ]
  },
  {
   "cell_type": "code",
   "execution_count": 3,
   "metadata": {},
   "outputs": [
    {
     "name": "stdout",
     "output_type": "stream",
     "text": [
      "<class 'open3d.cpu.pybind.geometry.PointCloud'>\n"
     ]
    }
   ],
   "source": [
    "####\n",
    "# Downsample and find features here\n",
    "####\n",
    "\n",
    "source.voxel_down_sample(voxel_size)\n",
    "target.voxel_down_sample(voxel_size)\n",
    "\n",
    "#draw_registrations(source, target)\n",
    "\n",
    "\n",
    "source.estimate_normals()\n",
    "target.estimate_normals()\n",
    "\n",
    "\n",
    "print(type(source))\n",
    "feature_source = o3d.pipelines.registration.compute_fpfh_feature(source, search_param = o3d.geometry.KDTreeSearchParamHybrid(radius=0.05, max_nn=100))\n",
    "feature_target = o3d.pipelines.registration.compute_fpfh_feature(target, search_param = o3d.geometry.KDTreeSearchParamHybrid(radius=0.05, max_nn=100))"
   ]
  },
  {
   "cell_type": "code",
   "execution_count": 4,
   "metadata": {},
   "outputs": [],
   "source": [
    "####\n",
    "# Call RANSAC here\n",
    "corr_length = 0.9\n",
    "distance_threshold = voxel_size * 1.5\n",
    "point_to_point =  o3d.pipelines.registration.TransformationEstimationPointToPoint(False)\n",
    "#point_to_plane =  o3d.pipelines.registration.TransformationEstimationPointToPlane()\n",
    "\n",
    "c0 = o3d.pipelines.registration.CorrespondenceCheckerBasedOnEdgeLength(corr_length)\n",
    "c1 = o3d.pipelines.registration.CorrespondenceCheckerBasedOnDistance(distance_threshold)\n",
    "c2 = o3d.pipelines.registration.CorrespondenceCheckerBasedOnNormal(0.095)\n",
    "\n",
    "checker_list = [c0,c1,c2]"
   ]
  },
  {
   "cell_type": "code",
   "execution_count": 5,
   "metadata": {},
   "outputs": [
    {
     "name": "stdout",
     "output_type": "stream",
     "text": [
      "[[-0.49438555  0.86573007 -0.07806645  0.80076054]\n",
      " [-0.20155376 -0.02680927  0.97911049  0.45349305]\n",
      " [ 0.84555249  0.49979266  0.18774526 -1.28964848]\n",
      " [ 0.          0.          0.          1.        ]]\n"
     ]
    }
   ],
   "source": [
    "ransac_result = o3d.pipelines.registration.registration_ransac_based_on_feature_matching(\n",
    "    source, target, \n",
    "    feature_source, feature_target, \n",
    "    distance_threshold,\n",
    "    1,\n",
    "    point_to_point,\n",
    "    checkers = checker_list)\n",
    "\n",
    "print(ransac_result.transformation)\n",
    "\n",
    "####"
   ]
  },
  {
   "cell_type": "code",
   "execution_count": 13,
   "metadata": {},
   "outputs": [
    {
     "name": "stdout",
     "output_type": "stream",
     "text": [
      "Tree created\n"
     ]
    },
    {
     "ename": "TypeError",
     "evalue": "unsupported operand type(s) for -: 'float' and 'open3d.cpu.pybind.geometry.PointCloud'",
     "output_type": "error",
     "traceback": [
      "\u001b[1;31m---------------------------------------------------------------------------\u001b[0m",
      "\u001b[1;31mTypeError\u001b[0m                                 Traceback (most recent call last)",
      "Input \u001b[1;32mIn [13]\u001b[0m, in \u001b[0;36m<module>\u001b[1;34m\u001b[0m\n\u001b[0;32m     39\u001b[0m     \u001b[38;5;28mprint\u001b[39m(\u001b[38;5;28mmin\u001b[39m(similarity))\n\u001b[0;32m     40\u001b[0m     \u001b[38;5;28;01mreturn\u001b[39;00m results[np\u001b[38;5;241m.\u001b[39margmin(similarity)]\n\u001b[1;32m---> 43\u001b[0m our_matrix \u001b[38;5;241m=\u001b[39m \u001b[43mglobal_registration\u001b[49m\u001b[43m(\u001b[49m\u001b[43msource\u001b[49m\u001b[43m,\u001b[49m\u001b[43m \u001b[49m\u001b[43mtarget\u001b[49m\u001b[43m,\u001b[49m\u001b[43m \u001b[49m\u001b[43mfeature_source\u001b[49m\u001b[43m,\u001b[49m\u001b[43m \u001b[49m\u001b[43mfeature_target\u001b[49m\u001b[43m,\u001b[49m\u001b[43m \u001b[49m\u001b[43mransac_result\u001b[49m\u001b[38;5;241;43m.\u001b[39;49m\u001b[43mtransformation\u001b[49m\u001b[43m)\u001b[49m\n",
      "Input \u001b[1;32mIn [13]\u001b[0m, in \u001b[0;36mglobal_registration\u001b[1;34m(source, target, source_feature, target_feature, ransac_matrix, max_iter)\u001b[0m\n\u001b[0;32m     29\u001b[0m transf \u001b[38;5;241m=\u001b[39m np\u001b[38;5;241m.\u001b[39mvstack((np\u001b[38;5;241m.\u001b[39mhstack((R, np\u001b[38;5;241m.\u001b[39mtranspose(np\u001b[38;5;241m.\u001b[39marray([T])))), np\u001b[38;5;241m.\u001b[39marray([[\u001b[38;5;241m0\u001b[39m, \u001b[38;5;241m0\u001b[39m, \u001b[38;5;241m0\u001b[39m, \u001b[38;5;241m1\u001b[39m]])))\n\u001b[0;32m     31\u001b[0m \u001b[38;5;66;03m#source_temp.transform(transf)\u001b[39;00m\n\u001b[0;32m     32\u001b[0m \n\u001b[0;32m     33\u001b[0m \u001b[38;5;66;03m#compare transf with ransac matrix\u001b[39;00m\n\u001b[1;32m---> 34\u001b[0m similarity\u001b[38;5;241m.\u001b[39mappend(np\u001b[38;5;241m.\u001b[39msum(np\u001b[38;5;241m.\u001b[39mabsolute(\u001b[43mtarget_points\u001b[49m\u001b[38;5;241;43m-\u001b[39;49m\u001b[43mnp\u001b[49m\u001b[38;5;241;43m.\u001b[39;49m\u001b[43masarray\u001b[49m\u001b[43m(\u001b[49m\u001b[43msource\u001b[49m\u001b[38;5;241;43m.\u001b[39;49m\u001b[43mtransform\u001b[49m\u001b[43m(\u001b[49m\u001b[43mtransf\u001b[49m\u001b[43m)\u001b[49m\u001b[43m)\u001b[49m)))\n\u001b[0;32m     35\u001b[0m \u001b[38;5;28;01mif\u001b[39;00m i\u001b[38;5;241m%\u001b[39m\u001b[38;5;241m5000\u001b[39m \u001b[38;5;241m==\u001b[39m \u001b[38;5;241m0\u001b[39m:\n\u001b[0;32m     36\u001b[0m     \u001b[38;5;28mprint\u001b[39m(i, similarity[\u001b[38;5;241m-\u001b[39m\u001b[38;5;241m1\u001b[39m])\n",
      "\u001b[1;31mTypeError\u001b[0m: unsupported operand type(s) for -: 'float' and 'open3d.cpu.pybind.geometry.PointCloud'"
     ]
    }
   ],
   "source": [
    "def global_registration(source, target, source_feature, target_feature, ransac_matrix, max_iter=100000):\n",
    "    tree = KDTree(np.transpose(target_feature.data))\n",
    "    distances, matches = tree.query(np.transpose(source_feature.data), 1)\n",
    "    print(\"Tree created\")\n",
    "    \n",
    "    source_points = np.asarray(source.points)\n",
    "    target_points = np.asarray(target.points)\n",
    "    source_center = source.get_center()\n",
    "    target_center = target.get_center()\n",
    "    \n",
    "    centered_source = source_points-source_center\n",
    "    centered_target = target_points-target_center\n",
    "    \n",
    "    similarity = []\n",
    "    results = []\n",
    "    for i in range(max_iter):\n",
    "        rand_indeces = [random.randint(0, len(centered_source)) for i in range(3)]\n",
    "        p_prime = np.array([centered_source[i] for i in rand_indeces])\n",
    "        q_prime = np.array([centered_target[matches[i]] for i in rand_indeces])\n",
    "\n",
    "        cov_matrix = np.matmul(p_prime, np.transpose(q_prime))\n",
    "\n",
    "        u,w,v = np.linalg.svd(cov_matrix)\n",
    "\n",
    "        R = np.matmul(u, np.transpose(v))\n",
    "\n",
    "        T = target_center - np.matmul(R, source_center)\n",
    "\n",
    "        transf = np.vstack((np.hstack((R, np.transpose(np.array([T])))), np.array([[0, 0, 0, 1]])))\n",
    "        \n",
    "        #source_temp.transform(transf)\n",
    "        \n",
    "        #compare transf with ransac matrix\n",
    "        similarity.append(np.sum(np.absolute(target_points-np.asarray(source.transform(transf)))))\n",
    "        if i%5000 == 0:\n",
    "            print(i, similarity[-1])\n",
    "        results.append(transf)\n",
    "        \n",
    "    print(min(similarity))\n",
    "    return results[np.argmin(similarity)]\n",
    " \n",
    "\n",
    "our_matrix = global_registration(source, target, feature_source, feature_target, ransac_result.transformation)"
   ]
  },
  {
   "cell_type": "code",
   "execution_count": 10,
   "metadata": {},
   "outputs": [],
   "source": [
    "# ransac_result = ...\n",
    "draw_registrations(source, target, our_matrix, True)"
   ]
  },
  {
   "cell_type": "code",
   "execution_count": null,
   "metadata": {},
   "outputs": [],
   "source": []
  }
 ],
 "metadata": {
  "kernelspec": {
   "display_name": "Python 3 (ipykernel)",
   "language": "python",
   "name": "python3"
  },
  "language_info": {
   "codemirror_mode": {
    "name": "ipython",
    "version": 3
   },
   "file_extension": ".py",
   "mimetype": "text/x-python",
   "name": "python",
   "nbconvert_exporter": "python",
   "pygments_lexer": "ipython3",
   "version": "3.9.5"
  }
 },
 "nbformat": 4,
 "nbformat_minor": 4
}
