{
 "cells": [
  {
   "cell_type": "markdown",
   "metadata": {},
   "source": [
    "# Weekly project 6\n",
    "Today we will continue work from monday.\n",
    "We will follow the style of last week.\n",
    "\n",
    "Weekly project:\n",
    "- You will need to implement your own k-means algorithm. (So you are not allowed to use the one in *sklearn*\n",
    "- it should be able to cluster each of the different figures.\n",
    "- Extend your k-means so it finds the optimal amount of clusters.\n",
    "Challenge\n",
    "- Implement the mean shift clustering algorithm\n"
   ]
  },
  {
   "cell_type": "code",
   "execution_count": 23,
   "metadata": {},
   "outputs": [],
   "source": [
    "import numpy as np\n",
    "import open3d as o3d\n",
    "import copy\n",
    "import matplotlib.pyplot as plt\n",
    "from scipy.spatial.distance import cdist\n",
    "%matplotlib notebook\n",
    "\n",
    "\n",
    "def draw_labels_on_model(pcl, labels):\n",
    "    cmap = plt.get_cmap(\"tab20\")\n",
    "    pcl_temp = copy.deepcopy(pcl)\n",
    "    max_label = labels.max()\n",
    "    colors = cmap(labels / (max_label if max_label > 0 else 1))\n",
    "    colors[labels < 0] = 0\n",
    "    pcl_temp.colors = o3d.utility.Vector3dVector(colors[:, :3])\n",
    "    o3d.visualization.draw_geometries([pcl_temp])\n",
    "\n",
    "d = 4\n",
    "mesh = o3d.geometry.TriangleMesh.create_tetrahedron().translate((-d, 0, 0))\n",
    "mesh += o3d.geometry.TriangleMesh.create_octahedron().translate((0, 0, 0))\n",
    "mesh += o3d.geometry.TriangleMesh.create_icosahedron().translate((d, 0, 0))\n",
    "mesh += o3d.geometry.TriangleMesh.create_torus().translate((-d, -d, 0))\n",
    "mesh += o3d.geometry.TriangleMesh.create_moebius(twists=1).translate((0, -d, 0))\n",
    "mesh += o3d.geometry.TriangleMesh.create_moebius(twists=2).translate((d, -d, 0))\n",
    "\n",
    "## apply k means on this\n",
    "point_cloud = mesh.sample_points_uniformly(int(1e4))"
   ]
  },
  {
   "cell_type": "code",
   "execution_count": 2,
   "metadata": {},
   "outputs": [
    {
     "name": "stdout",
     "output_type": "stream",
     "text": [
      "<class 'numpy.ndarray'>\n",
      "[[-3.28501824e+00  8.60358667e-03 -3.33333333e-01]\n",
      " [-3.28482926e+00  5.65278680e-02 -3.33333333e-01]\n",
      " [-4.06344277e+00 -3.99459343e-01 -3.33333333e-01]\n",
      " ...\n",
      " [ 5.32553196e+00 -4.01506005e+00 -3.34967510e-03]\n",
      " [ 5.41279425e+00 -4.06641196e+00 -1.99476786e-02]\n",
      " [ 5.43896447e+00 -4.01864985e+00 -5.60172166e-03]]\n"
     ]
    }
   ],
   "source": [
    "#print(type(point_cloud))\n",
    "point_cloud_array = np.asarray(point_cloud.points)\n",
    "print(type(point_cloud_array))\n",
    "print(point_cloud_array)\n",
    "\n"
   ]
  },
  {
   "cell_type": "code",
   "execution_count": null,
   "metadata": {},
   "outputs": [],
   "source": [
    "# This is the initial version of finding dist DONT RUN\n",
    "\n",
    "#         for i in pcl_array:\n",
    "#             dist = []\n",
    "#             for j in centroids:\n",
    "#                 dist.append(np.linalg.norm(i-j))\n",
    "#             closest_center = np.argmin(dist)\n",
    "#             labels.append(closest_center)\n",
    "        #print(dicktionary)"
   ]
  },
  {
   "cell_type": "code",
   "execution_count": 38,
   "metadata": {},
   "outputs": [
    {
     "name": "stdout",
     "output_type": "stream",
     "text": [
      "5\n",
      "[[ 1.36811105e-01  4.26999711e-01 -2.30020689e-01]\n",
      " [-1.74522207e+00 -3.67375140e+00 -7.20380929e-03]\n",
      " [ 9.83447732e-03 -4.08533316e-02  7.56912431e-01]\n",
      " [-3.27501978e+00  4.72836724e-02  4.69977519e-02]\n",
      " [ 4.01839307e+00 -1.59056601e-01  1.03004070e-03]\n",
      " [ 6.31098376e-01  3.56102959e-01  6.62592684e-01]]\n",
      "0\n",
      "2\n",
      "5\n",
      "[[ 1.36811105e-01  4.26999711e-01 -2.30020689e-01]\n",
      " [ 2.60579593e+00  8.59985142e-01  1.67487828e-02]\n",
      " [ 9.83447732e-03 -4.08533316e-02  7.56912431e-01]\n",
      " [ 3.86509289e+00 -1.32771623e+00 -7.26288911e-03]\n",
      " [-3.18560381e+00 -2.99535898e+00  3.17514424e-04]\n",
      " [ 6.31098376e-01  3.56102959e-01  6.62592684e-01]]\n",
      "0\n",
      "2\n",
      "5\n",
      "[[ 1.36811105e-01  4.26999711e-01 -2.30020689e-01]\n",
      " [-1.94739611e+00 -4.41554536e+00 -1.89167751e-03]\n",
      " [ 9.83447732e-03 -4.08533316e-02  7.56912431e-01]\n",
      " [-3.68509128e+00 -2.21599026e+00  1.39421100e-03]\n",
      " [ 3.63797946e+00 -5.77957829e-01 -9.57816403e-04]\n",
      " [ 6.31098376e-01  3.56102959e-01  6.62592684e-01]]\n",
      "2\n",
      "5\n",
      "[[ 6.99027861e-01 -4.92605491e+00 -9.72975636e-02]\n",
      " [ 1.31806831e-01  5.74212792e-02 -4.77858864e-03]\n",
      " [ 9.83447732e-03 -4.08533316e-02  7.56912431e-01]\n",
      " [ 3.87998038e+00 -7.83934369e-01  9.32909999e-04]\n",
      " [-3.45814615e+00 -3.34356164e+00 -4.47174354e-04]\n",
      " [ 6.31098376e-01  3.56102959e-01  6.62592684e-01]]\n",
      "1\n",
      "2\n",
      "[[-2.40551802e-01  1.03665121e-01 -3.56050669e-03]\n",
      " [ 1.31806831e-01  5.74212792e-02 -4.77858864e-03]\n",
      " [ 9.83447732e-03 -4.08533316e-02  7.56912431e-01]\n",
      " [-3.40528874e+00 -3.36077735e+00 -4.77086389e-04]\n",
      " [ 3.73291907e+00 -6.80354878e-01  9.56663975e-04]\n",
      " [ 8.85351544e-01 -4.73946457e+00 -8.11882409e-02]]\n",
      "1\n",
      "2\n",
      "[[ 1.03857604e+00 -4.71679983e+00 -9.30784429e-02]\n",
      " [ 1.31806831e-01  5.74212792e-02 -4.77858864e-03]\n",
      " [ 9.83447732e-03 -4.08533316e-02  7.56912431e-01]\n",
      " [ 3.67664005e+00 -6.73323286e-01 -1.10414158e-05]\n",
      " [-3.35648016e+00 -3.37806622e+00 -1.42775494e-03]\n",
      " [-3.07572548e-01  1.14339293e-01  7.10639948e-03]]\n",
      "1\n",
      "2\n",
      "[[-2.97605387e-01  1.06960588e-01  7.04214644e-03]\n",
      " [ 1.31806831e-01  5.74212792e-02 -4.77858864e-03]\n",
      " [ 9.83447732e-03 -4.08533316e-02  7.56912431e-01]\n",
      " [-3.36676528e+00 -3.37457717e+00 -1.29182454e-03]\n",
      " [ 3.69059423e+00 -6.68554321e-01  3.59550502e-05]\n",
      " [ 1.03074096e+00 -4.64637750e+00 -7.71586348e-02]]\n",
      "1\n",
      "2\n",
      "[[ 1.04661327e+00 -4.64092014e+00 -7.98459501e-02]\n",
      " [ 1.31806831e-01  5.74212792e-02 -4.77858864e-03]\n",
      " [ 9.83447732e-03 -4.08533316e-02  7.56912431e-01]\n",
      " [ 3.65605882e+00 -6.62329261e-01 -5.23010488e-05]\n",
      " [-3.36009217e+00 -3.37630652e+00 -1.32692326e-03]\n",
      " [-3.38906857e-01  1.18414776e-01  8.65036451e-03]]\n",
      "1\n",
      "2\n",
      "[[-3.38620064e-01  1.16547594e-01  8.44759014e-03]\n",
      " [ 1.31806831e-01  5.74212792e-02 -4.77858864e-03]\n",
      " [ 9.83447732e-03 -4.08533316e-02  7.56912431e-01]\n",
      " [-3.37122801e+00 -3.37356803e+00 -1.22917947e-03]\n",
      " [ 3.65646391e+00 -6.61865946e-01  2.10839462e-06]\n",
      " [ 1.02419279e+00 -4.64293665e+00 -7.67453437e-02]]\n",
      "1\n",
      "2\n",
      "[[ 1.01958970e+00 -4.64770154e+00 -7.72413838e-02]\n",
      " [ 1.31806831e-01  5.74212792e-02 -4.77858864e-03]\n",
      " [ 9.83447732e-03 -4.08533316e-02  7.56912431e-01]\n",
      " [ 3.65095350e+00 -6.61777668e-01  2.00190695e-05]\n",
      " [-3.37122801e+00 -3.37356803e+00 -1.22917947e-03]\n",
      " [-3.43947999e-01  1.21200618e-01  8.25531735e-03]]\n"
     ]
    }
   ],
   "source": [
    "def kmeans2(pcl_array, num_clusters, max_iter):\n",
    "#     big = np.max(pcl_array)\n",
    "#     small = np.min(pcl_array)\n",
    "    centroids = np.random.uniform(0, 1, (num_clusters, 3))\n",
    "    \n",
    "    for k in range(max_iter):\n",
    "        dist = cdist(point_cloud_array, centroids)\n",
    "        labels = np.argmax(dist, 1)\n",
    "        for l in range(len(centroids)):\n",
    "            np_item = point_cloud_array[np.where(labels == l)]\n",
    "            if np_item.size == 0:\n",
    "                continue\n",
    "            mean = np.mean(np_item, axis = 0)\n",
    "            centroids[l] = mean\n",
    "    return labels\n",
    "\n",
    "labels = kmeans2(point_cloud_array, 6, 10)\n",
    "draw_labels_on_model(point_cloud, labels)\n",
    "\n",
    "#o3d.visualization.draw_geometries([point_cloud])"
   ]
  },
  {
   "cell_type": "code",
   "execution_count": 43,
   "metadata": {},
   "outputs": [
    {
     "name": "stdout",
     "output_type": "stream",
     "text": [
      "[[-1.59993286e+00  1.43914938e-03 -2.70437226e-03]\n",
      " [-3.99927033e+00 -4.00136124e+00 -9.57348792e-04]\n",
      " [ 3.58221156e+00 -1.41125937e-01  6.83996855e-01]\n",
      " [ 4.41326123e+00  1.26340945e-01 -6.87885334e-01]\n",
      " [ 4.00029464e+00 -3.99785507e+00  3.68433286e-04]\n",
      " [ 1.91258114e-02 -3.99959304e+00  1.10932522e-03]]\n",
      "[0. 0. 0. ... 4. 4. 4.]\n"
     ]
    }
   ],
   "source": [
    "def my_kmeans(x, k):\n",
    "\n",
    "    diff = 1\n",
    "    cluster = np.zeros(x.shape[0]) #1000 in our case\n",
    "\n",
    "    # select k random centroids\n",
    "    random_indices = np.random.choice(len(x), size=k, replace=False) # we choose randomly k points in a len(x) extension\n",
    "    centroids = x[random_indices, :]\n",
    "\n",
    "    while diff:\n",
    "\n",
    "      # for each observation\n",
    "      for i, row in enumerate(x):\n",
    "\n",
    "        mn_dist = float('inf')\n",
    "        # dist of the point from all centroids\n",
    "        for idx, centroid in enumerate(centroids):\n",
    "          d = np.sqrt((centroid[0]-row[0])**2 + (centroid[1]-row[1])**2+ (centroid[2]-row[2])**2)\n",
    "\n",
    "          # store closest centroid \n",
    "          if mn_dist > d:\n",
    "            mn_dist = d\n",
    "            cluster[i] = idx # classify each point on a cluster\n",
    "\n",
    "      new_centroids = np.zeros((k,3))\n",
    "      for j in range(k):\n",
    "        cluster_aux = []\n",
    "        for i in range(x.shape[0]):\n",
    "          if cluster[i] == j:\n",
    "            cluster_aux.append(x[i])\n",
    "\n",
    "        # Now we store the \"k_th\" new centroid value, calculated as average of, x, y , z\n",
    "        #print(np.asanyarray(cluster_aux).shape)\n",
    "        new_centroids[j] = np.average(cluster_aux, axis = 0)\n",
    "\n",
    "      #new_centroids = pd.DataFrame(X).groupby(by=cluster).mean().values\n",
    "\n",
    "      # if centroids are same then leave\n",
    "      if np.count_nonzero(centroids-new_centroids) == 0:\n",
    "        diff = 0\n",
    "      else:\n",
    "        centroids = new_centroids\n",
    "    return centroids, cluster\n",
    "\n",
    "centroids, clusters = my_kmeans(point_cloud_array, 6)\n",
    "\n",
    "print(centroids)\n",
    "print(clusters)\n",
    "\n",
    "draw_labels_on_model(point_cloud, clusters)"
   ]
  },
  {
   "cell_type": "code",
   "execution_count": null,
   "metadata": {},
   "outputs": [],
   "source": []
  }
 ],
 "metadata": {
  "kernelspec": {
   "display_name": "Python 3 (ipykernel)",
   "language": "python",
   "name": "python3"
  },
  "language_info": {
   "codemirror_mode": {
    "name": "ipython",
    "version": 3
   },
   "file_extension": ".py",
   "mimetype": "text/x-python",
   "name": "python",
   "nbconvert_exporter": "python",
   "pygments_lexer": "ipython3",
   "version": "3.9.7"
  },
  "toc": {
   "base_numbering": 1,
   "nav_menu": {},
   "number_sections": true,
   "sideBar": true,
   "skip_h1_title": false,
   "title_cell": "Table of Contents",
   "title_sidebar": "Contents",
   "toc_cell": false,
   "toc_position": {},
   "toc_section_display": true,
   "toc_window_display": false
  },
  "varInspector": {
   "cols": {
    "lenName": 16,
    "lenType": 16,
    "lenVar": 40
   },
   "kernels_config": {
    "python": {
     "delete_cmd_postfix": "",
     "delete_cmd_prefix": "del ",
     "library": "var_list.py",
     "varRefreshCmd": "print(var_dic_list())"
    },
    "r": {
     "delete_cmd_postfix": ") ",
     "delete_cmd_prefix": "rm(",
     "library": "var_list.r",
     "varRefreshCmd": "cat(var_dic_list()) "
    }
   },
   "types_to_exclude": [
    "module",
    "function",
    "builtin_function_or_method",
    "instance",
    "_Feature"
   ],
   "window_display": false
  }
 },
 "nbformat": 4,
 "nbformat_minor": 4
}
